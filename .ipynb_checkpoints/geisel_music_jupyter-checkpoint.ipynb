{
 "cells": [
  {
   "cell_type": "code",
   "execution_count": 68,
   "metadata": {},
   "outputs": [],
   "source": [
    "import datascience\n",
    "from datascience import *"
   ]
  },
  {
   "cell_type": "code",
   "execution_count": 1,
   "metadata": {},
   "outputs": [],
   "source": [
    "import pandas as pd"
   ]
  },
  {
   "cell_type": "code",
   "execution_count": 6,
   "metadata": {},
   "outputs": [],
   "source": [
    "spotifypd = pd.read_csv(\"SpotifyFeatures.csv\")"
   ]
  },
  {
   "cell_type": "code",
   "execution_count": 16,
   "metadata": {},
   "outputs": [
    {
     "data": {
      "text/plain": [
       "100.006"
      ]
     },
     "execution_count": 16,
     "metadata": {},
     "output_type": "execute_result"
    }
   ],
   "source": [
    "spotifypd[spotifypd.tempo.between(100,101)].tempo.iloc[0]"
   ]
  },
  {
   "cell_type": "code",
   "execution_count": 69,
   "metadata": {},
   "outputs": [],
   "source": [
    "spotify = Table.read_table(\"SpotifyFeatures.csv\")"
   ]
  },
  {
   "cell_type": "code",
   "execution_count": 70,
   "metadata": {},
   "outputs": [
    {
     "data": {
      "text/html": [
       "<table border=\"1\" class=\"dataframe\">\n",
       "    <thead>\n",
       "        <tr>\n",
       "            <th>genre</th> <th>artist_name</th> <th>track_name</th> <th>track_id</th> <th>popularity</th> <th>acousticness</th> <th>danceability</th> <th>duration_ms</th> <th>energy</th> <th>instrumentalness</th> <th>key</th> <th>liveness</th> <th>loudness</th> <th>mode</th> <th>speechiness</th> <th>tempo</th> <th>time_signature</th> <th>valence</th>\n",
       "        </tr>\n",
       "    </thead>\n",
       "    <tbody>\n",
       "        <tr>\n",
       "            <td>Movie</td> <td>Henri Salvador     </td> <td>C'est beau de faire un Show                                 </td> <td>0BRjO6ga9RKCKjfDqeFgWV</td> <td>0         </td> <td>0.611       </td> <td>0.389       </td> <td>99373      </td> <td>0.91  </td> <td>0               </td> <td>C#  </td> <td>0.346   </td> <td>-1.828  </td> <td>Major</td> <td>0.0525     </td> <td>166.969</td> <td>4/4           </td> <td>0.814  </td>\n",
       "        </tr>\n",
       "        <tr>\n",
       "            <td>Movie</td> <td>Martin & les fées  </td> <td>Perdu d'avance (par Gad Elmaleh)                            </td> <td>0BjC1NfoEOOusryehmNudP</td> <td>1         </td> <td>0.246       </td> <td>0.59        </td> <td>137373     </td> <td>0.737 </td> <td>0               </td> <td>F#  </td> <td>0.151   </td> <td>-5.559  </td> <td>Minor</td> <td>0.0868     </td> <td>174.003</td> <td>4/4           </td> <td>0.816  </td>\n",
       "        </tr>\n",
       "        <tr>\n",
       "            <td>Movie</td> <td>Joseph Williams    </td> <td>Don't Let Me Be Lonely Tonight                              </td> <td>0CoSDzoNIKCRs124s9uTVy</td> <td>3         </td> <td>0.952       </td> <td>0.663       </td> <td>170267     </td> <td>0.131 </td> <td>0               </td> <td>C   </td> <td>0.103   </td> <td>-13.879 </td> <td>Minor</td> <td>0.0362     </td> <td>99.488 </td> <td>5/4           </td> <td>0.368  </td>\n",
       "        </tr>\n",
       "        <tr>\n",
       "            <td>Movie</td> <td>Henri Salvador     </td> <td>Dis-moi Monsieur Gordon Cooper                              </td> <td>0Gc6TVm52BwZD07Ki6tIvf</td> <td>0         </td> <td>0.703       </td> <td>0.24        </td> <td>152427     </td> <td>0.326 </td> <td>0               </td> <td>C#  </td> <td>0.0985  </td> <td>-12.178 </td> <td>Major</td> <td>0.0395     </td> <td>171.758</td> <td>4/4           </td> <td>0.227  </td>\n",
       "        </tr>\n",
       "        <tr>\n",
       "            <td>Movie</td> <td>Fabien Nataf       </td> <td>Ouverture                                                   </td> <td>0IuslXpMROHdEPvSl1fTQK</td> <td>4         </td> <td>0.95        </td> <td>0.331       </td> <td>82625      </td> <td>0.225 </td> <td>0.123           </td> <td>F   </td> <td>0.202   </td> <td>-21.15  </td> <td>Major</td> <td>0.0456     </td> <td>140.576</td> <td>4/4           </td> <td>0.39   </td>\n",
       "        </tr>\n",
       "        <tr>\n",
       "            <td>Movie</td> <td>Henri Salvador     </td> <td>Le petit souper aux chandelles                              </td> <td>0Mf1jKa8eNAf1a4PwTbizj</td> <td>0         </td> <td>0.749       </td> <td>0.578       </td> <td>160627     </td> <td>0.0948</td> <td>0               </td> <td>C#  </td> <td>0.107   </td> <td>-14.97  </td> <td>Major</td> <td>0.143      </td> <td>87.479 </td> <td>4/4           </td> <td>0.358  </td>\n",
       "        </tr>\n",
       "        <tr>\n",
       "            <td>Movie</td> <td>Martin & les fées  </td> <td>Premières recherches (par Paul Ventimila, Lorie Pester,  ...</td> <td>0NUiKYRd6jt1LKMYGkUdnZ</td> <td>2         </td> <td>0.344       </td> <td>0.703       </td> <td>212293     </td> <td>0.27  </td> <td>0               </td> <td>C#  </td> <td>0.105   </td> <td>-12.675 </td> <td>Major</td> <td>0.953      </td> <td>82.873 </td> <td>4/4           </td> <td>0.533  </td>\n",
       "        </tr>\n",
       "        <tr>\n",
       "            <td>Movie</td> <td>Laura Mayne        </td> <td>Let Me Let Go                                               </td> <td>0PbIF9YVD505GutwotpB5C</td> <td>15        </td> <td>0.939       </td> <td>0.416       </td> <td>240067     </td> <td>0.269 </td> <td>0               </td> <td>F#  </td> <td>0.113   </td> <td>-8.949  </td> <td>Major</td> <td>0.0286     </td> <td>96.827 </td> <td>4/4           </td> <td>0.274  </td>\n",
       "        </tr>\n",
       "        <tr>\n",
       "            <td>Movie</td> <td>Chorus             </td> <td>Helka                                                       </td> <td>0ST6uPfvaPpJLtQwhE6KfC</td> <td>0         </td> <td>0.00104     </td> <td>0.734       </td> <td>226200     </td> <td>0.481 </td> <td>0.00086         </td> <td>C   </td> <td>0.0765  </td> <td>-7.725  </td> <td>Major</td> <td>0.046      </td> <td>125.08 </td> <td>4/4           </td> <td>0.765  </td>\n",
       "        </tr>\n",
       "        <tr>\n",
       "            <td>Movie</td> <td>Le Club des Juniors</td> <td>Les bisous des bisounours                                   </td> <td>0VSqZ3KStsjcfERGdcWpFO</td> <td>10        </td> <td>0.319       </td> <td>0.598       </td> <td>152694     </td> <td>0.705 </td> <td>0.00125         </td> <td>G   </td> <td>0.349   </td> <td>-7.79   </td> <td>Major</td> <td>0.0281     </td> <td>137.496</td> <td>4/4           </td> <td>0.718  </td>\n",
       "        </tr>\n",
       "    </tbody>\n",
       "</table>\n",
       "<p>... (232715 rows omitted)</p>"
      ],
      "text/plain": [
       "genre | artist_name         | track_name                                                   | track_id               | popularity | acousticness | danceability | duration_ms | energy | instrumentalness | key  | liveness | loudness | mode  | speechiness | tempo   | time_signature | valence\n",
       "Movie | Henri Salvador      | C'est beau de faire un Show                                  | 0BRjO6ga9RKCKjfDqeFgWV | 0          | 0.611        | 0.389        | 99373       | 0.91   | 0                | C#   | 0.346    | -1.828   | Major | 0.0525      | 166.969 | 4/4            | 0.814\n",
       "Movie | Martin & les fées   | Perdu d'avance (par Gad Elmaleh)                             | 0BjC1NfoEOOusryehmNudP | 1          | 0.246        | 0.59         | 137373      | 0.737  | 0                | F#   | 0.151    | -5.559   | Minor | 0.0868      | 174.003 | 4/4            | 0.816\n",
       "Movie | Joseph Williams     | Don't Let Me Be Lonely Tonight                               | 0CoSDzoNIKCRs124s9uTVy | 3          | 0.952        | 0.663        | 170267      | 0.131  | 0                | C    | 0.103    | -13.879  | Minor | 0.0362      | 99.488  | 5/4            | 0.368\n",
       "Movie | Henri Salvador      | Dis-moi Monsieur Gordon Cooper                               | 0Gc6TVm52BwZD07Ki6tIvf | 0          | 0.703        | 0.24         | 152427      | 0.326  | 0                | C#   | 0.0985   | -12.178  | Major | 0.0395      | 171.758 | 4/4            | 0.227\n",
       "Movie | Fabien Nataf        | Ouverture                                                    | 0IuslXpMROHdEPvSl1fTQK | 4          | 0.95         | 0.331        | 82625       | 0.225  | 0.123            | F    | 0.202    | -21.15   | Major | 0.0456      | 140.576 | 4/4            | 0.39\n",
       "Movie | Henri Salvador      | Le petit souper aux chandelles                               | 0Mf1jKa8eNAf1a4PwTbizj | 0          | 0.749        | 0.578        | 160627      | 0.0948 | 0                | C#   | 0.107    | -14.97   | Major | 0.143       | 87.479  | 4/4            | 0.358\n",
       "Movie | Martin & les fées   | Premières recherches (par Paul Ventimila, Lorie Pester,  ... | 0NUiKYRd6jt1LKMYGkUdnZ | 2          | 0.344        | 0.703        | 212293      | 0.27   | 0                | C#   | 0.105    | -12.675  | Major | 0.953       | 82.873  | 4/4            | 0.533\n",
       "Movie | Laura Mayne         | Let Me Let Go                                                | 0PbIF9YVD505GutwotpB5C | 15         | 0.939        | 0.416        | 240067      | 0.269  | 0                | F#   | 0.113    | -8.949   | Major | 0.0286      | 96.827  | 4/4            | 0.274\n",
       "Movie | Chorus              | Helka                                                        | 0ST6uPfvaPpJLtQwhE6KfC | 0          | 0.00104      | 0.734        | 226200      | 0.481  | 0.00086          | C    | 0.0765   | -7.725   | Major | 0.046       | 125.08  | 4/4            | 0.765\n",
       "Movie | Le Club des Juniors | Les bisous des bisounours                                    | 0VSqZ3KStsjcfERGdcWpFO | 10         | 0.319        | 0.598        | 152694      | 0.705  | 0.00125          | G    | 0.349    | -7.79    | Major | 0.0281      | 137.496 | 4/4            | 0.718\n",
       "... (232715 rows omitted)"
      ]
     },
     "execution_count": 70,
     "metadata": {},
     "output_type": "execute_result"
    }
   ],
   "source": [
    "spotify"
   ]
  },
  {
   "cell_type": "markdown",
   "metadata": {},
   "source": [
    "## pandas conversion\n",
    "matching_mode = spotify[spotify.mode == current_params[\"mode\"]]\n",
    "matching_tempo = matching_mode[spotify.tempo.between(current_params[\"tempo\"][0], current_params[\"tempo\"][1])]\n",
    "matching_loudness = matching_tempo[matching_tempo.loudness.between(current_params[\"loudness\"][0], current_params[\"loudness\"][1])]\n",
    "matching_danceability = matching_loudness[matching_loudness.danceability.between(current_params[\"danceability\"][0], current_params[\"danceability\"][1])]\n",
    "matching_valence = matching_danceability[matching_danceability.valence.between(current_params[\"valence\"][0], current_params[\"valence\"][1])]\n",
    "random_song = matching_valence.sample(1)\n",
    "random_song.show()\n",
    "while isExplicit(random_song.track_id.iloc[0], client_credentials_manager):\n",
    "    random_song = matching_valence.sample(1)\n",
    "track_id = random_song.track_id.iloc[0]\n",
    "track_duration = random_song.duration_ms.iloc[0]/1000\n",
    "play_song(track_id, track_duration)"
   ]
  },
  {
   "cell_type": "code",
   "execution_count": 71,
   "metadata": {},
   "outputs": [
    {
     "name": "stdout",
     "output_type": "stream",
     "text": [
      "hour = 5\n"
     ]
    }
   ],
   "source": [
    "from datetime import datetime\n",
    "hour = datetime.now().hour\n",
    "print(\"hour =\", hour)\n",
    "\n",
    "def set_parameters(time_of_day, busyness, std_div):\n",
    "    params = {}\n",
    "\n",
    "    # Setting parameters for time_of_day...\n",
    "    if (hour < 6):\n",
    "         params['mode'] = 'Minor'\n",
    "         params['tempo'] = (0, 90)\n",
    "         params['loudness'] = (-33, -10)\n",
    "    elif (time_of_day < 15):\n",
    "         params['mode'] = 'Major'\n",
    "         params['tempo'] = (90, 160)\n",
    "         params['loudness'] = (-13, -3)\n",
    "    elif (time_of_day < 21):\n",
    "         params['mode'] = 'Major'\n",
    "         params['tempo'] = (130, 230)\n",
    "         params['loudness'] = (-10, 0)\n",
    "    else:\n",
    "         params['mode'] = 'Minor'\n",
    "         params['tempo'] = (50, 150)\n",
    "         params['loudness'] = (-16, -12)\n",
    "\n",
    "    # Setting parameters for busyness...\n",
    "    if (busyness < 200):\n",
    "        params['danceability'] = (0.75, 1)\n",
    "        params['energy'] = (0.8, 1)\n",
    "    elif (busyness < 1500):\n",
    "        params['danceability'] = (0.45, 0.75)\n",
    "        params['energy'] = (0.6, 0.8)\n",
    "    elif (busyness < 3000):\n",
    "        params['danceability'] = (0.25, 0.45)\n",
    "        params['energy'] = (0.4, 0.6)\n",
    "    else:\n",
    "        params['danceability'] = (0, 0.3)\n",
    "        params['energy'] = (0, 0.84)\n",
    "\n",
    "    # Setting parameters for std_div...\n",
    "    if (std_div < 5):\n",
    "        params['valence'] = (0.8, 1)\n",
    "    elif (std_div < 10):\n",
    "        params['valence'] = (0.6, 0.8)\n",
    "    elif (std_div < 15):\n",
    "        params['valence'] = (0.4, 0.6)\n",
    "    elif (std_div < 20):\n",
    "        params['valence'] = (0.2, 0.4)\n",
    "    else:\n",
    "        params['valence'] = (0, 0.2)\n",
    "\n",
    "    return params\n",
    "\n",
    "#current_params = set_parameters(hour, 86, 2)\n",
    "#print(current_params)"
   ]
  },
  {
   "cell_type": "code",
   "execution_count": 72,
   "metadata": {},
   "outputs": [],
   "source": [
    "import requests\n",
    "occuspace_api = auth_dict[\"occuspace_api\"]\n",
    "raw_occuspace = requests.get(occuspace_api)"
   ]
  },
  {
   "cell_type": "code",
   "execution_count": 73,
   "metadata": {},
   "outputs": [
    {
     "name": "stdout",
     "output_type": "stream",
     "text": [
      "dict_keys(['abbreviation', 'isOpen', 'lat', 'locationId', 'locationName', 'lon', 'sublocations', 'units'])\n",
      "stress_gauge 30.0\n",
      "mean 2.6666666666666665\n",
      "stdev 2.70801280154532\n"
     ]
    }
   ],
   "source": [
    "import numpy as np\n",
    "import json\n",
    "\n",
    "occuspace_dict = json.loads(raw_occuspace.text)\n",
    "print(occuspace_dict.keys())\n",
    "\n",
    "sublocations = occuspace_dict[\"sublocations\"]\n",
    "# Group different floors to different stress weights\n",
    "loud = [\"1E\", \"1W\", \"2E\", \"2W\"]\n",
    "medium = [\"4\", \"5\", \"6\", \"7\"]\n",
    "silent = [\"8\"]\n",
    "stress_gauge = 0\n",
    "# Weight different floors with different stress levels depending on the ideal quietness\n",
    "for floor in sublocations:\n",
    "    if floor[\"abbreviation\"] in loud:\n",
    "        stress_gauge += floor[\"busyness\"] * 1\n",
    "    elif floor[\"abbreviation\"] in medium:\n",
    "        stress_gauge += floor[\"busyness\"] * 1.5\n",
    "    elif floor[\"abbreviation\"] in silent:\n",
    "        stress_gauge += floor[\"busyness\"] * 2\n",
    "print(\"stress_gauge\", stress_gauge)\n",
    "busyness_floors = []\n",
    "\n",
    "# Calculate standard deviation of all floors' busynesses\n",
    "for floor in sublocations:\n",
    "    busyness_floors.append(floor[\"busyness\"])\n",
    "print(\"mean\", np.mean(busyness_floors))\n",
    "floors_stdev = np.std(busyness_floors)\n",
    "print(\"stdev\", floors_stdev)\n",
    "\n",
    "current_params = set_parameters(hour, stress_gauge, floors_stdev)"
   ]
  },
  {
   "cell_type": "code",
   "execution_count": 74,
   "metadata": {},
   "outputs": [],
   "source": [
    "import spotipy\n",
    "from spotipy.oauth2 import SpotifyClientCredentials\n",
    "client_id = auth_dict[\"client_id\"]\n",
    "client_secret = auth_dict[\"client_secret\"]\n",
    "client_credentials_manager = SpotifyClientCredentials(client_id=client_id, client_secret=client_secret)\n",
    "\n",
    "def isExplicit(track_id, client_credentials_manager):\n",
    "    # generates new access token if needed, otherwise use old one\n",
    "    client_credentials_manager.get_access_token()\n",
    "    sp = spotipy.Spotify(client_credentials_manager=client_credentials_manager)\n",
    "    isExplicit = bool (sp.track(track_id)[\"explicit\"])\n",
    "    return isExplicit"
   ]
  },
  {
   "cell_type": "code",
   "execution_count": 18,
   "metadata": {
    "scrolled": true
   },
   "outputs": [],
   "source": [
    "import selenium\n",
    "from selenium import webdriver\n",
    "from selenium.webdriver.chrome.options import Options\n",
    "from auth import auth_dict\n",
    "import time\n",
    "\n",
    "def play_song(track_id, track_duration):\n",
    "    song_url = \"https://play.spotify.com/track/{track_id}\".format(track_id = track_id)\n",
    "    login_string = \"https://accounts.spotify.com/en/login?continue={song_url}\".format(song_url = song_url)\n",
    "    \n",
    "    driver = webdriver.Chrome('chromedriver')\n",
    "    opts = Options()\n",
    "    opts.add_argument(\"user-agent=[Mozilla/5.0 (Windows NT x.y; rv:10.0) Gecko/20100101 Firefox/10.0]\")\n",
    "    driver.get(login_string)\n",
    "    username_form = driver.find_element_by_id(\"login-username\")\n",
    "    password_form = driver.find_element_by_id(\"login-password\")\n",
    "    \n",
    "    username_form.send_keys(auth_dict[\"username\"])\n",
    "    password_form.send_keys(auth_dict[\"password\"])\n",
    "    \n",
    "    login_button = driver.find_element_by_id(\"login-button\")\n",
    "    login_button.click()\n",
    "    \n",
    "    #play_button = driver.find_element_by_class_name(\"control-button spoticon-play-16 control-button--circled\")\n",
    "    #play_button.click()\n",
    "    \n",
    "    time.sleep(track_duration)\n",
    "    driver.close()"
   ]
  },
  {
   "cell_type": "code",
   "execution_count": 76,
   "metadata": {},
   "outputs": [
    {
     "data": {
      "text/html": [
       "<table border=\"1\" class=\"dataframe\">\n",
       "    <thead>\n",
       "        <tr>\n",
       "            <th>genre</th> <th>artist_name</th> <th>track_name</th> <th>track_id</th> <th>popularity</th> <th>acousticness</th> <th>danceability</th> <th>duration_ms</th> <th>energy</th> <th>instrumentalness</th> <th>key</th> <th>liveness</th> <th>loudness</th> <th>mode</th> <th>speechiness</th> <th>tempo</th> <th>time_signature</th> <th>valence</th>\n",
       "        </tr>\n",
       "    </thead>\n",
       "    <tbody>\n",
       "        <tr>\n",
       "            <td>Jazz </td> <td>Nujabes    </td> <td>Perfect Circle</td> <td>4x7z7PwjRpbtFNKXihsHRr</td> <td>40        </td> <td>0.634       </td> <td>0.826       </td> <td>240667     </td> <td>0.524 </td> <td>0.000119        </td> <td>B   </td> <td>0.106   </td> <td>-11.631 </td> <td>Minor</td> <td>0.0607     </td> <td>80.737</td> <td>4/4           </td> <td>0.815  </td>\n",
       "        </tr>\n",
       "    </tbody>\n",
       "</table>"
      ],
      "text/plain": [
       "<IPython.core.display.HTML object>"
      ]
     },
     "metadata": {},
     "output_type": "display_data"
    }
   ],
   "source": [
    "\n",
    "matching_mode = spotify.where(\"mode\", are.equal_to(current_params[\"mode\"]))\n",
    "matching_tempo = matching_mode.where(\"tempo\", are.between(current_params[\"tempo\"][0], current_params[\"tempo\"][1]))\n",
    "matching_loudness = matching_tempo.where(\"loudness\", are.between(current_params[\"loudness\"][0], current_params[\"loudness\"][1]))\n",
    "matching_danceability = matching_loudness.where(\"danceability\", are.between(current_params[\"danceability\"][0], current_params[\"danceability\"][1]))\n",
    "matching_valence = matching_danceability.where(\"valence\", are.between(current_params[\"valence\"][0], current_params[\"valence\"][1])).sort(\"valence\", descending=False)\n",
    "random_song = matching_valence.sample(1)\n",
    "random_song.show()\n",
    "while isExplicit(random_song.column(\"track_id\").item(0), client_credentials_manager):\n",
    "    random_song = matching_valence.sample(1)\n",
    "track_id = random_song.column(\"track_id\").item(0)\n",
    "track_duration = random_song.column(\"duration_ms\").item(0)/1000\n",
    "play_song(track_id, track_duration)"
   ]
  },
  {
   "cell_type": "code",
   "execution_count": 78,
   "metadata": {},
   "outputs": [
    {
     "data": {
      "text/html": [
       "<table border=\"1\" class=\"dataframe\">\n",
       "    <thead>\n",
       "        <tr>\n",
       "            <th>genre</th> <th>artist_name</th> <th>track_name</th> <th>track_id</th> <th>popularity</th> <th>acousticness</th> <th>danceability</th> <th>duration_ms</th> <th>energy</th> <th>instrumentalness</th> <th>key</th> <th>liveness</th> <th>loudness</th> <th>mode</th> <th>speechiness</th> <th>tempo</th> <th>time_signature</th> <th>valence</th>\n",
       "        </tr>\n",
       "    </thead>\n",
       "    <tbody>\n",
       "        <tr>\n",
       "            <td>Movie</td> <td>Henri Salvador     </td> <td>C'est beau de faire un Show                                 </td> <td>0BRjO6ga9RKCKjfDqeFgWV</td> <td>0         </td> <td>0.611       </td> <td>0.389       </td> <td>99373      </td> <td>0.91  </td> <td>0               </td> <td>C#  </td> <td>0.346   </td> <td>-1.828  </td> <td>Major</td> <td>0.0525     </td> <td>166.969</td> <td>4/4           </td> <td>0.814  </td>\n",
       "        </tr>\n",
       "        <tr>\n",
       "            <td>Movie</td> <td>Martin & les fées  </td> <td>Perdu d'avance (par Gad Elmaleh)                            </td> <td>0BjC1NfoEOOusryehmNudP</td> <td>1         </td> <td>0.246       </td> <td>0.59        </td> <td>137373     </td> <td>0.737 </td> <td>0               </td> <td>F#  </td> <td>0.151   </td> <td>-5.559  </td> <td>Minor</td> <td>0.0868     </td> <td>174.003</td> <td>4/4           </td> <td>0.816  </td>\n",
       "        </tr>\n",
       "        <tr>\n",
       "            <td>Movie</td> <td>Joseph Williams    </td> <td>Don't Let Me Be Lonely Tonight                              </td> <td>0CoSDzoNIKCRs124s9uTVy</td> <td>3         </td> <td>0.952       </td> <td>0.663       </td> <td>170267     </td> <td>0.131 </td> <td>0               </td> <td>C   </td> <td>0.103   </td> <td>-13.879 </td> <td>Minor</td> <td>0.0362     </td> <td>99.488 </td> <td>5/4           </td> <td>0.368  </td>\n",
       "        </tr>\n",
       "        <tr>\n",
       "            <td>Movie</td> <td>Henri Salvador     </td> <td>Dis-moi Monsieur Gordon Cooper                              </td> <td>0Gc6TVm52BwZD07Ki6tIvf</td> <td>0         </td> <td>0.703       </td> <td>0.24        </td> <td>152427     </td> <td>0.326 </td> <td>0               </td> <td>C#  </td> <td>0.0985  </td> <td>-12.178 </td> <td>Major</td> <td>0.0395     </td> <td>171.758</td> <td>4/4           </td> <td>0.227  </td>\n",
       "        </tr>\n",
       "        <tr>\n",
       "            <td>Movie</td> <td>Fabien Nataf       </td> <td>Ouverture                                                   </td> <td>0IuslXpMROHdEPvSl1fTQK</td> <td>4         </td> <td>0.95        </td> <td>0.331       </td> <td>82625      </td> <td>0.225 </td> <td>0.123           </td> <td>F   </td> <td>0.202   </td> <td>-21.15  </td> <td>Major</td> <td>0.0456     </td> <td>140.576</td> <td>4/4           </td> <td>0.39   </td>\n",
       "        </tr>\n",
       "        <tr>\n",
       "            <td>Movie</td> <td>Henri Salvador     </td> <td>Le petit souper aux chandelles                              </td> <td>0Mf1jKa8eNAf1a4PwTbizj</td> <td>0         </td> <td>0.749       </td> <td>0.578       </td> <td>160627     </td> <td>0.0948</td> <td>0               </td> <td>C#  </td> <td>0.107   </td> <td>-14.97  </td> <td>Major</td> <td>0.143      </td> <td>87.479 </td> <td>4/4           </td> <td>0.358  </td>\n",
       "        </tr>\n",
       "        <tr>\n",
       "            <td>Movie</td> <td>Martin & les fées  </td> <td>Premières recherches (par Paul Ventimila, Lorie Pester,  ...</td> <td>0NUiKYRd6jt1LKMYGkUdnZ</td> <td>2         </td> <td>0.344       </td> <td>0.703       </td> <td>212293     </td> <td>0.27  </td> <td>0               </td> <td>C#  </td> <td>0.105   </td> <td>-12.675 </td> <td>Major</td> <td>0.953      </td> <td>82.873 </td> <td>4/4           </td> <td>0.533  </td>\n",
       "        </tr>\n",
       "        <tr>\n",
       "            <td>Movie</td> <td>Laura Mayne        </td> <td>Let Me Let Go                                               </td> <td>0PbIF9YVD505GutwotpB5C</td> <td>15        </td> <td>0.939       </td> <td>0.416       </td> <td>240067     </td> <td>0.269 </td> <td>0               </td> <td>F#  </td> <td>0.113   </td> <td>-8.949  </td> <td>Major</td> <td>0.0286     </td> <td>96.827 </td> <td>4/4           </td> <td>0.274  </td>\n",
       "        </tr>\n",
       "        <tr>\n",
       "            <td>Movie</td> <td>Chorus             </td> <td>Helka                                                       </td> <td>0ST6uPfvaPpJLtQwhE6KfC</td> <td>0         </td> <td>0.00104     </td> <td>0.734       </td> <td>226200     </td> <td>0.481 </td> <td>0.00086         </td> <td>C   </td> <td>0.0765  </td> <td>-7.725  </td> <td>Major</td> <td>0.046      </td> <td>125.08 </td> <td>4/4           </td> <td>0.765  </td>\n",
       "        </tr>\n",
       "        <tr>\n",
       "            <td>Movie</td> <td>Le Club des Juniors</td> <td>Les bisous des bisounours                                   </td> <td>0VSqZ3KStsjcfERGdcWpFO</td> <td>10        </td> <td>0.319       </td> <td>0.598       </td> <td>152694     </td> <td>0.705 </td> <td>0.00125         </td> <td>G   </td> <td>0.349   </td> <td>-7.79   </td> <td>Major</td> <td>0.0281     </td> <td>137.496</td> <td>4/4           </td> <td>0.718  </td>\n",
       "        </tr>\n",
       "    </tbody>\n",
       "</table>\n",
       "<p>... (232715 rows omitted)</p>"
      ],
      "text/plain": [
       "genre | artist_name         | track_name                                                   | track_id               | popularity | acousticness | danceability | duration_ms | energy | instrumentalness | key  | liveness | loudness | mode  | speechiness | tempo   | time_signature | valence\n",
       "Movie | Henri Salvador      | C'est beau de faire un Show                                  | 0BRjO6ga9RKCKjfDqeFgWV | 0          | 0.611        | 0.389        | 99373       | 0.91   | 0                | C#   | 0.346    | -1.828   | Major | 0.0525      | 166.969 | 4/4            | 0.814\n",
       "Movie | Martin & les fées   | Perdu d'avance (par Gad Elmaleh)                             | 0BjC1NfoEOOusryehmNudP | 1          | 0.246        | 0.59         | 137373      | 0.737  | 0                | F#   | 0.151    | -5.559   | Minor | 0.0868      | 174.003 | 4/4            | 0.816\n",
       "Movie | Joseph Williams     | Don't Let Me Be Lonely Tonight                               | 0CoSDzoNIKCRs124s9uTVy | 3          | 0.952        | 0.663        | 170267      | 0.131  | 0                | C    | 0.103    | -13.879  | Minor | 0.0362      | 99.488  | 5/4            | 0.368\n",
       "Movie | Henri Salvador      | Dis-moi Monsieur Gordon Cooper                               | 0Gc6TVm52BwZD07Ki6tIvf | 0          | 0.703        | 0.24         | 152427      | 0.326  | 0                | C#   | 0.0985   | -12.178  | Major | 0.0395      | 171.758 | 4/4            | 0.227\n",
       "Movie | Fabien Nataf        | Ouverture                                                    | 0IuslXpMROHdEPvSl1fTQK | 4          | 0.95         | 0.331        | 82625       | 0.225  | 0.123            | F    | 0.202    | -21.15   | Major | 0.0456      | 140.576 | 4/4            | 0.39\n",
       "Movie | Henri Salvador      | Le petit souper aux chandelles                               | 0Mf1jKa8eNAf1a4PwTbizj | 0          | 0.749        | 0.578        | 160627      | 0.0948 | 0                | C#   | 0.107    | -14.97   | Major | 0.143       | 87.479  | 4/4            | 0.358\n",
       "Movie | Martin & les fées   | Premières recherches (par Paul Ventimila, Lorie Pester,  ... | 0NUiKYRd6jt1LKMYGkUdnZ | 2          | 0.344        | 0.703        | 212293      | 0.27   | 0                | C#   | 0.105    | -12.675  | Major | 0.953       | 82.873  | 4/4            | 0.533\n",
       "Movie | Laura Mayne         | Let Me Let Go                                                | 0PbIF9YVD505GutwotpB5C | 15         | 0.939        | 0.416        | 240067      | 0.269  | 0                | F#   | 0.113    | -8.949   | Major | 0.0286      | 96.827  | 4/4            | 0.274\n",
       "Movie | Chorus              | Helka                                                        | 0ST6uPfvaPpJLtQwhE6KfC | 0          | 0.00104      | 0.734        | 226200      | 0.481  | 0.00086          | C    | 0.0765   | -7.725   | Major | 0.046       | 125.08  | 4/4            | 0.765\n",
       "Movie | Le Club des Juniors | Les bisous des bisounours                                    | 0VSqZ3KStsjcfERGdcWpFO | 10         | 0.319        | 0.598        | 152694      | 0.705  | 0.00125          | G    | 0.349    | -7.79    | Major | 0.0281      | 137.496 | 4/4            | 0.718\n",
       "... (232715 rows omitted)"
      ]
     },
     "execution_count": 78,
     "metadata": {},
     "output_type": "execute_result"
    }
   ],
   "source": [
    "spotify"
   ]
  },
  {
   "cell_type": "code",
   "execution_count": null,
   "metadata": {},
   "outputs": [],
   "source": []
  }
 ],
 "metadata": {
  "kernelspec": {
   "display_name": "Python 3",
   "language": "python",
   "name": "python3"
  },
  "language_info": {
   "codemirror_mode": {
    "name": "ipython",
    "version": 3
   },
   "file_extension": ".py",
   "mimetype": "text/x-python",
   "name": "python",
   "nbconvert_exporter": "python",
   "pygments_lexer": "ipython3",
   "version": "3.7.0"
  }
 },
 "nbformat": 4,
 "nbformat_minor": 2
}
