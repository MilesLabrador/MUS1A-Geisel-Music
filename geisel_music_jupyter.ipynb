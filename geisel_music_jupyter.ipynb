{
 "cells": [
  {
   "cell_type": "code",
   "execution_count": 1,
   "metadata": {},
   "outputs": [],
   "source": [
    "import auth\n",
    "from auth import auth_dict"
   ]
  },
  {
   "cell_type": "code",
   "execution_count": 10,
   "metadata": {},
   "outputs": [
    {
     "data": {
      "text/plain": [
       "270"
      ]
     },
     "execution_count": 10,
     "metadata": {},
     "output_type": "execute_result"
    }
   ],
   "source": [
    "import numpy as np\n",
    "rangen = np.arange(180, 420)\n",
    "np.random.choice(rangen)"
   ]
  },
  {
   "cell_type": "code",
   "execution_count": 2,
   "metadata": {},
   "outputs": [],
   "source": [
    "import pandas as pd"
   ]
  },
  {
   "cell_type": "code",
   "execution_count": 3,
   "metadata": {},
   "outputs": [],
   "source": [
    "spotify = pd.read_csv(\"SpotifyFeatures.csv\")"
   ]
  },
  {
   "cell_type": "markdown",
   "metadata": {},
   "source": []
  },
  {
   "cell_type": "code",
   "execution_count": 4,
   "metadata": {},
   "outputs": [
    {
     "name": "stdout",
     "output_type": "stream",
     "text": [
      "hour = 0\n"
     ]
    }
   ],
   "source": [
    "from datetime import datetime\n",
    "hour = datetime.now().hour\n",
    "print(\"hour =\", hour)\n",
    "\n",
    "def set_parameters(time_of_day, busyness, std_div):\n",
    "    params = {}\n",
    "\n",
    "    # Setting parameters for time_of_day...\n",
    "    if (hour < 6):\n",
    "         params['mode'] = 'Minor'\n",
    "         params['tempo'] = (0, 90)\n",
    "         params['loudness'] = (-33, -10)\n",
    "    elif (time_of_day < 15):\n",
    "         params['mode'] = 'Major'\n",
    "         params['tempo'] = (90, 160)\n",
    "         params['loudness'] = (-13, -3)\n",
    "    elif (time_of_day < 21):\n",
    "         params['mode'] = 'Major'\n",
    "         params['tempo'] = (130, 230)\n",
    "         params['loudness'] = (-10, 0)\n",
    "    else:\n",
    "         params['mode'] = 'Minor'\n",
    "         params['tempo'] = (50, 150)\n",
    "         params['loudness'] = (-16, -12)\n",
    "\n",
    "    # Setting parameters for busyness...\n",
    "    if (busyness < 200):\n",
    "        params['danceability'] = (0.75, 1)\n",
    "        params['energy'] = (0.8, 1)\n",
    "    elif (busyness < 1500):\n",
    "        params['danceability'] = (0.45, 0.75)\n",
    "        params['energy'] = (0.6, 0.8)\n",
    "    elif (busyness < 3000):\n",
    "        params['danceability'] = (0.25, 0.45)\n",
    "        params['energy'] = (0.4, 0.6)\n",
    "    else:\n",
    "        params['danceability'] = (0, 0.3)\n",
    "        params['energy'] = (0, 0.84)\n",
    "\n",
    "    # Setting parameters for std_div...\n",
    "    if (std_div < 5):\n",
    "        params['valence'] = (0.8, 1)\n",
    "    elif (std_div < 10):\n",
    "        params['valence'] = (0.6, 0.8)\n",
    "    elif (std_div < 15):\n",
    "        params['valence'] = (0.4, 0.6)\n",
    "    elif (std_div < 20):\n",
    "        params['valence'] = (0.2, 0.4)\n",
    "    else:\n",
    "        params['valence'] = (0, 0.2)\n",
    "\n",
    "    return params\n",
    "\n",
    "#current_params = set_parameters(hour, 86, 2)\n",
    "#print(current_params)"
   ]
  },
  {
   "cell_type": "code",
   "execution_count": 5,
   "metadata": {},
   "outputs": [],
   "source": [
    "import requests\n",
    "occuspace_api = auth_dict[\"occuspace_api\"]\n",
    "raw_occuspace = requests.get(occuspace_api)"
   ]
  },
  {
   "cell_type": "code",
   "execution_count": 6,
   "metadata": {},
   "outputs": [
    {
     "name": "stdout",
     "output_type": "stream",
     "text": [
      "dict_keys(['abbreviation', 'isOpen', 'lat', 'locationId', 'locationName', 'lon', 'sublocations', 'units'])\n",
      "stress_gauge 250.5\n",
      "mean 27.444444444444443\n",
      "stdev 32.62620320850205\n"
     ]
    }
   ],
   "source": [
    "import numpy as np\n",
    "import json\n",
    "\n",
    "occuspace_dict = json.loads(raw_occuspace.text)\n",
    "print(occuspace_dict.keys())\n",
    "\n",
    "sublocations = occuspace_dict[\"sublocations\"]\n",
    "# Group different floors to different stress weights\n",
    "loud = [\"1E\", \"1W\", \"2E\", \"2W\"]\n",
    "medium = [\"4\", \"5\", \"6\", \"7\"]\n",
    "silent = [\"8\"]\n",
    "stress_gauge = 0\n",
    "# Weight different floors with different stress levels depending on the ideal quietness\n",
    "for floor in sublocations:\n",
    "    if floor[\"abbreviation\"] in loud:\n",
    "        stress_gauge += floor[\"busyness\"] * 1\n",
    "    elif floor[\"abbreviation\"] in medium:\n",
    "        stress_gauge += floor[\"busyness\"] * 1.5\n",
    "    elif floor[\"abbreviation\"] in silent:\n",
    "        stress_gauge += floor[\"busyness\"] * 2\n",
    "print(\"stress_gauge\", stress_gauge)\n",
    "busyness_floors = []\n",
    "\n",
    "# Calculate standard deviation of all floors' busynesses\n",
    "for floor in sublocations:\n",
    "    busyness_floors.append(floor[\"busyness\"])\n",
    "print(\"mean\", np.mean(busyness_floors))\n",
    "floors_stdev = np.std(busyness_floors)\n",
    "print(\"stdev\", floors_stdev)\n",
    "\n",
    "current_params = set_parameters(hour, stress_gauge, floors_stdev)"
   ]
  },
  {
   "cell_type": "code",
   "execution_count": 7,
   "metadata": {},
   "outputs": [],
   "source": [
    "import spotipy\n",
    "from spotipy.oauth2 import SpotifyClientCredentials\n",
    "client_id = auth_dict[\"client_id\"]\n",
    "client_secret = auth_dict[\"client_secret\"]\n",
    "client_credentials_manager = SpotifyClientCredentials(client_id=client_id, client_secret=client_secret)\n",
    "\n",
    "def isExplicit(track_id, client_credentials_manager):\n",
    "    # generates new access token if needed, otherwise use old one\n",
    "    client_credentials_manager.get_access_token()\n",
    "    sp = spotipy.Spotify(client_credentials_manager=client_credentials_manager)\n",
    "    isExplicit = bool (sp.track(track_id)[\"explicit\"])\n",
    "    return isExplicit"
   ]
  },
  {
   "cell_type": "code",
   "execution_count": 8,
   "metadata": {
    "scrolled": true
   },
   "outputs": [],
   "source": [
    "import selenium\n",
    "from selenium import webdriver\n",
    "from selenium.webdriver.chrome.options import Options\n",
    "from auth import auth_dict\n",
    "import time\n",
    "\n",
    "def play_song(track_id, track_duration):\n",
    "    song_url = \"https://play.spotify.com/track/{track_id}\".format(track_id = track_id)\n",
    "    login_string = \"https://accounts.spotify.com/en/login?continue={song_url}\".format(song_url = song_url)\n",
    "    \n",
    "    driver = webdriver.Chrome('chromedriver')\n",
    "    opts = Options()\n",
    "    opts.add_argument(\"user-agent=[Mozilla/5.0 (Windows NT x.y; rv:10.0) Gecko/20100101 Firefox/10.0]\")\n",
    "    driver.get(login_string)\n",
    "    username_form = driver.find_element_by_id(\"login-username\")\n",
    "    password_form = driver.find_element_by_id(\"login-password\")\n",
    "    \n",
    "    username_form.send_keys(auth_dict[\"username\"])\n",
    "    password_form.send_keys(auth_dict[\"password\"])\n",
    "    \n",
    "    login_button = driver.find_element_by_id(\"login-button\")\n",
    "    login_button.click()\n",
    "    \n",
    "    #play_button = driver.find_element_by_class_name(\"control-button spoticon-play-16 control-button--circled\")\n",
    "    #play_button.click()\n",
    "    \n",
    "    time.sleep(track_duration)\n",
    "    driver.close()"
   ]
  },
  {
   "cell_type": "code",
   "execution_count": null,
   "metadata": {},
   "outputs": [
    {
     "name": "stdout",
     "output_type": "stream",
     "text": [
      "Minor\n"
     ]
    },
    {
     "name": "stderr",
     "output_type": "stream",
     "text": [
      "C:\\Users\\Labtop\\Anaconda3\\lib\\site-packages\\ipykernel_launcher.py:4: UserWarning: Boolean Series key will be reindexed to match DataFrame index.\n",
      "  after removing the cwd from sys.path.\n",
      "C:\\Users\\Labtop\\Anaconda3\\lib\\site-packages\\ipykernel_launcher.py:5: UserWarning: Boolean Series key will be reindexed to match DataFrame index.\n",
      "  \"\"\"\n"
     ]
    },
    {
     "name": "stdout",
     "output_type": "stream",
     "text": [
      "tempo 70.227\n",
      "mode Minor\n",
      "danceability 0.484\n",
      "valence 0.179\n"
     ]
    }
   ],
   "source": [
    "## pandas conversion\n",
    "print(current_params[\"mode\"])\n",
    "no_comedy = spotify[spotify[\"genre\"] != \"Comedy\"]\n",
    "matching_mode = no_comedy[spotify[\"mode\"] == current_params[\"mode\"]]\n",
    "matching_tempo = matching_mode[spotify.tempo.between(current_params[\"tempo\"][0], current_params[\"tempo\"][1])]\n",
    "matching_loudness = matching_tempo[matching_tempo.loudness.between(current_params[\"loudness\"][0], current_params[\"loudness\"][1])]\n",
    "matching_danceability = matching_loudness[matching_loudness.danceability.between(current_params[\"danceability\"][0], current_params[\"danceability\"][1])]\n",
    "matching_valence = matching_danceability[matching_danceability.valence.between(current_params[\"valence\"][0], current_params[\"valence\"][1])]\n",
    "random_song = matching_valence.sample(1)\n",
    "random_song\n",
    "while isExplicit(random_song.track_id.iloc[0], client_credentials_manager):\n",
    "    random_song = matching_valence.sample(1)\n",
    "track_id = random_song.track_id.iloc[0]\n",
    "track_duration = random_song.duration_ms.iloc[0]/1000\n",
    "\n",
    "print(\"tempo\", random_song[\"tempo\"].iloc[0])\n",
    "print(\"mode\", random_song[\"mode\"].iloc[0])\n",
    "print(\"danceability\", random_song[\"danceability\"].iloc[0])\n",
    "print(\"valence\", random_song[\"valence\"].iloc[0])\n",
    "play_song(track_id, track_duration)\n"
   ]
  },
  {
   "cell_type": "code",
   "execution_count": null,
   "metadata": {},
   "outputs": [],
   "source": []
  },
  {
   "cell_type": "code",
   "execution_count": null,
   "metadata": {},
   "outputs": [],
   "source": []
  },
  {
   "cell_type": "code",
   "execution_count": null,
   "metadata": {},
   "outputs": [],
   "source": []
  }
 ],
 "metadata": {
  "kernelspec": {
   "display_name": "Python 3",
   "language": "python",
   "name": "python3"
  },
  "language_info": {
   "codemirror_mode": {
    "name": "ipython",
    "version": 3
   },
   "file_extension": ".py",
   "mimetype": "text/x-python",
   "name": "python",
   "nbconvert_exporter": "python",
   "pygments_lexer": "ipython3",
   "version": "3.7.0"
  }
 },
 "nbformat": 4,
 "nbformat_minor": 2
}
